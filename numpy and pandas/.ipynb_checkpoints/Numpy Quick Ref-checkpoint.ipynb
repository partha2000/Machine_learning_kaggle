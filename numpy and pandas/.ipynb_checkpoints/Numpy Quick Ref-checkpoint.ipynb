{
 "cells": [
  {
   "cell_type": "markdown",
   "metadata": {},
   "source": [
    "# Numpy and Pandas"
   ]
  },
  {
   "cell_type": "markdown",
   "metadata": {},
   "source": [
    "## Numpy"
   ]
  },
  {
   "cell_type": "markdown",
   "metadata": {},
   "source": [
    "<b> Importing the numpy library"
   ]
  },
  {
   "cell_type": "code",
   "execution_count": 2,
   "metadata": {},
   "outputs": [],
   "source": [
    "import numpy as np"
   ]
  },
  {
   "cell_type": "markdown",
   "metadata": {},
   "source": [
    "<b> Creating an array"
   ]
  },
  {
   "cell_type": "code",
   "execution_count": 5,
   "metadata": {},
   "outputs": [
    {
     "name": "stdout",
     "output_type": "stream",
     "text": [
      "[ 1.2   3.4   5.6   7.8   8.9   9.1  10.11 12.13 14.15]\n"
     ]
    }
   ],
   "source": [
    "# This is a 1D array\n",
    "\n",
    "array_1d = np.array([1.2,3.4,5.6,7.8,8.9,9.1,10.11,12.13,14.15])\n",
    "print(array_1d)"
   ]
  },
  {
   "cell_type": "code",
   "execution_count": 7,
   "metadata": {},
   "outputs": [
    {
     "name": "stdout",
     "output_type": "stream",
     "text": [
      "[[1 2 3]\n",
      " [4 5 6]\n",
      " [7 8 9]]\n"
     ]
    }
   ],
   "source": [
    "# This is 2D array\n",
    "\n",
    "array_2d = np.array([[1,2,3],[4,5,6],[7,8,9]])\n",
    "print(array_2d)"
   ]
  },
  {
   "cell_type": "markdown",
   "metadata": {},
   "source": [
    "To populate a matrix with all zeroes, call `np.zeros`. To populate a matrix with all ones, call `np.ones`."
   ]
  },
  {
   "cell_type": "markdown",
   "metadata": {},
   "source": [
    "<b> Populate array with a range of numbers"
   ]
  },
  {
   "cell_type": "code",
   "execution_count": 14,
   "metadata": {},
   "outputs": [
    {
     "name": "stdout",
     "output_type": "stream",
     "text": [
      "[1 2 3 4 5 6 7 8 9]\n"
     ]
    }
   ],
   "source": [
    "array_range = np.arange(1,10)\n",
    "print(array_range)\n",
    "\n",
    "# The upper bound will not be included"
   ]
  },
  {
   "cell_type": "markdown",
   "metadata": {},
   "source": [
    "### Array with random numbers"
   ]
  },
  {
   "cell_type": "code",
   "execution_count": 17,
   "metadata": {},
   "outputs": [
    {
     "name": "stdout",
     "output_type": "stream",
     "text": [
      "[37 41 25 25 38 39 35 25 32 28]\n"
     ]
    }
   ],
   "source": [
    "random_array = np.random.randint(low = 20, high = 50, size=(10))\n",
    "print(random_array)\n",
    "# Here too the upper bound is not included"
   ]
  },
  {
   "cell_type": "code",
   "execution_count": 20,
   "metadata": {},
   "outputs": [
    {
     "name": "stdout",
     "output_type": "stream",
     "text": [
      "[0.37022826 0.03267239 0.3670345  0.56677274 0.47153746 0.26612871]\n"
     ]
    }
   ],
   "source": [
    "# random numbers between 0 and 1\n",
    "\n",
    "rand_array = np.random.random(size = (6))\n",
    "print(rand_array)"
   ]
  },
  {
   "cell_type": "markdown",
   "metadata": {},
   "source": [
    "### Some mathematical operations\n",
    "Numpy has a very useful feature called `broadcasting` that expand smaller operands to the dimension of larger operand to follow linear algebra rules"
   ]
  },
  {
   "cell_type": "code",
   "execution_count": 23,
   "metadata": {},
   "outputs": [
    {
     "name": "stdout",
     "output_type": "stream",
     "text": [
      "[2.37022826 2.03267239 2.3670345  2.56677274 2.47153746 2.26612871]\n"
     ]
    }
   ],
   "source": [
    "# Adds a constant to every element in the array\n",
    "\n",
    "rand_array_bw_2_and_3 = rand_array + 2.0\n",
    "print(rand_array_bw_2_and_3)"
   ]
  },
  {
   "cell_type": "code",
   "execution_count": 27,
   "metadata": {},
   "outputs": [
    {
     "name": "stdout",
     "output_type": "stream",
     "text": [
      "[37 41 25 25 38 39 35 25 32 28]\n",
      "[185 205 125 125 190 195 175 125 160 140]\n"
     ]
    }
   ],
   "source": [
    "# Similarly\n",
    "\n",
    "print(random_array)\n",
    "print(random_array * 5)"
   ]
  },
  {
   "cell_type": "markdown",
   "metadata": {},
   "source": [
    "### Creating a linear dataset for example"
   ]
  },
  {
   "cell_type": "code",
   "execution_count": 33,
   "metadata": {},
   "outputs": [
    {
     "name": "stdout",
     "output_type": "stream",
     "text": [
      "[ 6  7  8  9 10 11 12 13 14 15 16 17 18 19 20]\n"
     ]
    }
   ],
   "source": [
    "feature = np.arange(6,21)\n",
    "print(feature)"
   ]
  },
  {
   "cell_type": "code",
   "execution_count": 35,
   "metadata": {},
   "outputs": [
    {
     "name": "stdout",
     "output_type": "stream",
     "text": [
      "[22 25 28 31 34 37 40 43 46 49 52 55 58 61 64]\n"
     ]
    }
   ],
   "source": [
    "label = (feature * 3) + 4\n",
    "print(label)"
   ]
  },
  {
   "cell_type": "markdown",
   "metadata": {},
   "source": [
    "### Adding some noise to make it realistic"
   ]
  },
  {
   "cell_type": "code",
   "execution_count": 44,
   "metadata": {},
   "outputs": [
    {
     "name": "stdout",
     "output_type": "stream",
     "text": [
      "[ 0 -1  0  1 -1  1 -1 -2 -1  1 -2  0 -1 -2  1]\n",
      "[ 0.40260668 -0.65093458 -1.85348166  1.91994143  0.20271628 -0.07171596\n",
      "  0.23331182  0.15328453  0.33765869 -1.25135821 -0.19290535 -1.88503105\n",
      " -0.03921831 -1.86362594 -0.20268356]\n"
     ]
    }
   ],
   "source": [
    "noise = np.random.randint(low = -2,high = +2,size = (15))\n",
    "print(noise)\n",
    "\n",
    "# For noise within -2 to +2\n",
    "noise2 = (np.random.random([15]) * 4) - 2\n",
    "print(noise2)"
   ]
  },
  {
   "cell_type": "code",
   "execution_count": 47,
   "metadata": {},
   "outputs": [
    {
     "name": "stdout",
     "output_type": "stream",
     "text": [
      "[22.22371289 22.41774707 23.80665232 36.00700911 39.0575707  37.98863029\n",
      " 39.62783324 42.57115272 48.18941948 47.71898869 53.60523329 55.08869762\n",
      " 62.8800404  58.00183008 64.14882897]\n"
     ]
    }
   ],
   "source": [
    "label = label + noise2\n",
    "print(label)"
   ]
  },
  {
   "cell_type": "markdown",
   "metadata": {},
   "source": [
    "## Pandas"
   ]
  },
  {
   "cell_type": "markdown",
   "metadata": {},
   "source": [
    "A DataFrame is similar to an in-memory spreadsheet. Like a spreadsheet:\n",
    "\n",
    "  * A DataFrame stores data in cells. \n",
    "  * A DataFrame has named columns (usually) and numbered rows."
   ]
  },
  {
   "cell_type": "code",
   "execution_count": 49,
   "metadata": {},
   "outputs": [],
   "source": [
    "import pandas as pd"
   ]
  },
  {
   "cell_type": "markdown",
   "metadata": {},
   "source": [
    "### Creting a dataframe"
   ]
  },
  {
   "cell_type": "markdown",
   "metadata": {},
   "source": [
    "#### Making data for our dataframe. Use list comprehension for clean code"
   ]
  },
  {
   "cell_type": "code",
   "execution_count": 90,
   "metadata": {},
   "outputs": [
    {
     "name": "stdout",
     "output_type": "stream",
     "text": [
      "[[20, 31], [20, 35], [20, 38], [20, 24], [20, 20], [20, 23], [20, 27], [20, 37], [20, 24], [20, 32], [24, 36], [24, 31], [24, 22], [24, 36], [24, 25], [24, 34], [24, 31], [24, 26], [24, 29], [24, 31], [19, 36], [19, 34], [19, 37], [19, 36], [19, 32], [19, 20], [19, 21], [19, 32], [19, 23], [19, 37], [6, 30], [6, 24], [6, 37], [6, 27], [6, 26], [6, 29], [6, 27], [6, 31], [6, 35], [6, 24], [6, 23], [6, 27], [6, 24], [6, 24], [6, 26], [6, 20], [6, 29], [6, 21], [6, 36], [6, 28], [3, 23], [3, 22], [3, 26], [3, 23], [3, 23], [3, 25], [3, 37], [3, 29], [3, 37], [3, 34], [28, 32], [28, 38], [28, 34], [28, 32], [28, 27], [28, 30], [28, 25], [28, 24], [28, 25], [28, 23], [18, 35], [18, 34], [18, 21], [18, 21], [18, 27], [18, 26], [18, 31], [18, 27], [18, 26], [18, 37], [8, 38], [8, 25], [8, 28], [8, 34], [8, 37], [8, 32], [8, 24], [8, 31], [8, 32], [8, 36], [24, 30], [24, 30], [24, 21], [24, 34], [24, 28], [24, 27], [24, 34], [24, 20], [24, 39], [24, 20]]\n"
     ]
    }
   ],
   "source": [
    "# data = np.random.randint(2,40,10)\n",
    "# data = np.array([np.random.randint(2,40,10),np.random.randint(30,40,10)])\n",
    "\n",
    "# Better to use list comprehension to generate the data \n",
    "# if you dont want to manually enter it.\n",
    "data = [[i,j] for i in np.random.randint(2,40,10) for j in np.random.randint(20,40,10)]\n",
    "print(data)\n"
   ]
  },
  {
   "cell_type": "code",
   "execution_count": 91,
   "metadata": {},
   "outputs": [
    {
     "name": "stdout",
     "output_type": "stream",
     "text": [
      "[[36 31]\n",
      " [25 33]\n",
      " [35 33]\n",
      " [31 33]\n",
      " [26 25]\n",
      " [24 38]\n",
      " [37 28]\n",
      " [30 24]\n",
      " [26 39]\n",
      " [24 39]\n",
      " [32 39]\n",
      " [37 30]\n",
      " [36 33]\n",
      " [32 23]\n",
      " [29 30]\n",
      " [29 27]\n",
      " [29 26]\n",
      " [32 35]\n",
      " [28 31]\n",
      " [39 31]\n",
      " [25 30]\n",
      " [34 22]\n",
      " [38 25]\n",
      " [26 35]\n",
      " [37 22]\n",
      " [31 39]\n",
      " [33 23]\n",
      " [32 38]\n",
      " [35 28]\n",
      " [26 33]\n",
      " [20 21]\n",
      " [24 25]\n",
      " [22 23]\n",
      " [24 23]\n",
      " [28 28]\n",
      " [25 30]\n",
      " [37 24]\n",
      " [38 32]\n",
      " [39 24]\n",
      " [33 30]\n",
      " [34 29]\n",
      " [29 28]\n",
      " [30 28]\n",
      " [25 30]\n",
      " [36 32]\n",
      " [21 27]\n",
      " [25 32]\n",
      " [31 28]\n",
      " [30 30]\n",
      " [39 33]\n",
      " [21 33]\n",
      " [22 30]\n",
      " [20 29]\n",
      " [23 23]\n",
      " [29 26]\n",
      " [31 32]\n",
      " [33 25]\n",
      " [39 30]\n",
      " [35 37]\n",
      " [23 30]\n",
      " [20 33]\n",
      " [32 31]\n",
      " [24 34]\n",
      " [32 21]\n",
      " [24 35]\n",
      " [31 34]\n",
      " [21 26]\n",
      " [37 26]\n",
      " [37 38]\n",
      " [32 21]\n",
      " [37 39]\n",
      " [23 28]\n",
      " [28 39]\n",
      " [37 39]\n",
      " [30 37]\n",
      " [21 21]\n",
      " [22 39]\n",
      " [37 26]\n",
      " [20 39]\n",
      " [27 24]\n",
      " [38 27]\n",
      " [37 20]\n",
      " [26 37]\n",
      " [29 29]\n",
      " [25 22]\n",
      " [39 27]\n",
      " [28 29]\n",
      " [29 25]\n",
      " [36 35]\n",
      " [37 39]\n",
      " [36 30]\n",
      " [31 24]\n",
      " [27 39]\n",
      " [23 20]\n",
      " [37 38]\n",
      " [20 28]\n",
      " [27 25]\n",
      " [29 22]\n",
      " [24 27]\n",
      " [30 38]]\n"
     ]
    }
   ],
   "source": [
    "# This means 3 rows with 4 columns of data\n",
    "data2 = np.random.randint(20,40,(100,2))\n",
    "print(data2)"
   ]
  },
  {
   "cell_type": "markdown",
   "metadata": {},
   "source": [
    "#### Making the columns, creating dataframe and displaying it"
   ]
  },
  {
   "cell_type": "code",
   "execution_count": 93,
   "metadata": {},
   "outputs": [
    {
     "name": "stdout",
     "output_type": "stream",
     "text": [
      "    temp  activity\n",
      "0     36        31\n",
      "1     25        33\n",
      "2     35        33\n",
      "3     31        33\n",
      "4     26        25\n",
      "..   ...       ...\n",
      "95    20        28\n",
      "96    27        25\n",
      "97    29        22\n",
      "98    24        27\n",
      "99    30        38\n",
      "\n",
      "[100 rows x 2 columns]\n"
     ]
    }
   ],
   "source": [
    "columns = ['temp','activity']\n",
    "dataframe = pd.DataFrame(data = data2, columns = columns)\n",
    "print(dataframe)"
   ]
  },
  {
   "cell_type": "markdown",
   "metadata": {},
   "source": [
    "#### Creating a new column"
   ]
  },
  {
   "cell_type": "code",
   "execution_count": 94,
   "metadata": {},
   "outputs": [
    {
     "name": "stdout",
     "output_type": "stream",
     "text": [
      "    temp  activity  adjusted\n",
      "0     36        31       124\n",
      "1     25        33       132\n",
      "2     35        33       132\n",
      "3     31        33       132\n",
      "4     26        25       100\n",
      "..   ...       ...       ...\n",
      "95    20        28       112\n",
      "96    27        25       100\n",
      "97    29        22        88\n",
      "98    24        27       108\n",
      "99    30        38       152\n",
      "\n",
      "[100 rows x 3 columns]\n"
     ]
    }
   ],
   "source": [
    "dataframe[\"adjusted\"] = dataframe[\"activity\"] *4\n",
    "print(dataframe)"
   ]
  },
  {
   "cell_type": "markdown",
   "metadata": {},
   "source": [
    "### Slicing a dataset"
   ]
  },
  {
   "cell_type": "code",
   "execution_count": 95,
   "metadata": {},
   "outputs": [
    {
     "name": "stdout",
     "output_type": "stream",
     "text": [
      "   temp  activity  adjusted\n",
      "0    36        31       124\n",
      "1    25        33       132\n",
      "2    35        33       132\n",
      "3    31        33       132\n",
      "4    26        25       100\n"
     ]
    }
   ],
   "source": [
    "# Print the head\n",
    "print(dataframe.head())"
   ]
  },
  {
   "cell_type": "code",
   "execution_count": 96,
   "metadata": {},
   "outputs": [
    {
     "name": "stdout",
     "output_type": "stream",
     "text": [
      "   temp  activity  adjusted\n",
      "0    36        31       124\n",
      "1    25        33       132\n",
      "2    35        33       132\n"
     ]
    }
   ],
   "source": [
    "# Print the 3 head rows\n",
    "print(dataframe.head(3))"
   ]
  },
  {
   "cell_type": "code",
   "execution_count": 97,
   "metadata": {},
   "outputs": [
    {
     "name": "stdout",
     "output_type": "stream",
     "text": [
      "   temp  activity  adjusted\n",
      "5    24        38       152\n"
     ]
    }
   ],
   "source": [
    "# print only 5th row\n",
    "print(dataframe.iloc[[5]])"
   ]
  },
  {
   "cell_type": "code",
   "execution_count": 98,
   "metadata": {},
   "outputs": [
    {
     "name": "stdout",
     "output_type": "stream",
     "text": [
      "    temp  activity  adjusted\n",
      "10    32        39       156\n",
      "11    37        30       120\n",
      "12    36        33       132\n",
      "13    32        23        92\n",
      "14    29        30       120\n",
      "15    29        27       108\n",
      "16    29        26       104\n",
      "17    32        35       140\n",
      "18    28        31       124\n",
      "19    39        31       124\n",
      "20    25        30       120\n"
     ]
    }
   ],
   "source": [
    "# Print rows from 10th to 20th\n",
    "print(dataframe[10:21])"
   ]
  },
  {
   "cell_type": "code",
   "execution_count": 99,
   "metadata": {},
   "outputs": [
    {
     "name": "stdout",
     "output_type": "stream",
     "text": [
      "0     36\n",
      "1     25\n",
      "2     35\n",
      "3     31\n",
      "4     26\n",
      "      ..\n",
      "95    20\n",
      "96    27\n",
      "97    29\n",
      "98    24\n",
      "99    30\n",
      "Name: temp, Length: 100, dtype: int32\n"
     ]
    }
   ],
   "source": [
    "# Print a single column\n",
    "print(dataframe[\"temp\"])"
   ]
  },
  {
   "cell_type": "markdown",
   "metadata": {},
   "source": [
    "<b> If you assign a dataframe to a new variable the reference will be stored and any changes made will be copied to the original one\n",
    "<br>\n",
    "<b> Use `pd.DataFrame.copy()` to make a true independent copy "
   ]
  },
  {
   "cell_type": "code",
   "execution_count": 101,
   "metadata": {},
   "outputs": [
    {
     "name": "stdout",
     "output_type": "stream",
     "text": [
      "    temp  activity  adjusted\n",
      "0   3600      3100     12400\n",
      "1   2500      3300     13200\n",
      "2   3500      3300     13200\n",
      "3   3100      3300     13200\n",
      "4   2600      2500     10000\n",
      "..   ...       ...       ...\n",
      "95  2000      2800     11200\n",
      "96  2700      2500     10000\n",
      "97  2900      2200      8800\n",
      "98  2400      2700     10800\n",
      "99  3000      3800     15200\n",
      "\n",
      "[100 rows x 3 columns]\n"
     ]
    }
   ],
   "source": [
    "#Example \n",
    "copy_dataframe = dataframe.copy()\n",
    "\n",
    "copy_dataframe = copy_dataframe * 100\n",
    "print(copy_dataframe)"
   ]
  }
 ],
 "metadata": {
  "kernelspec": {
   "display_name": "Python 3",
   "language": "python",
   "name": "python3"
  },
  "language_info": {
   "codemirror_mode": {
    "name": "ipython",
    "version": 3
   },
   "file_extension": ".py",
   "mimetype": "text/x-python",
   "name": "python",
   "nbconvert_exporter": "python",
   "pygments_lexer": "ipython3",
   "version": "3.7.3"
  }
 },
 "nbformat": 4,
 "nbformat_minor": 2
}

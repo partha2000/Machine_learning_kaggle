{
 "cells": [
  {
   "cell_type": "markdown",
   "metadata": {},
   "source": [
    "<h1>Linear Algebra, Statistics and Probability</h1>"
   ]
  },
  {
   "cell_type": "markdown",
   "metadata": {},
   "source": [
    "<h5>This notebook will contain all the elementary and advanced mathematical concepts that will be highly essential to dive into Machine learning applications</h5>"
   ]
  },
  {
   "cell_type": "markdown",
   "metadata": {},
   "source": [
    "<h3><u>LINEAR ALGEBRA</u><h3>"
   ]
  },
  {
   "cell_type": "markdown",
   "metadata": {},
   "source": [
    "<p>Linear algebra deals with vector spaces. So lets understand what are vectors</p>\n"
   ]
  },
  {
   "cell_type": "markdown",
   "metadata": {},
   "source": [
    "<B><u>VECTORS</u></B>"
   ]
  },
  {
   "cell_type": "markdown",
   "metadata": {},
   "source": [
    "Simply said vectors are points in a finite space. The no. of variables your data contains determines the dimensionality of the vector."
   ]
  },
  {
   "cell_type": "markdown",
   "metadata": {},
   "source": [
    "To perform vector addition we can easily implement it by zip-ing the vectors like this"
   ]
  },
  {
   "cell_type": "code",
   "execution_count": 9,
   "metadata": {},
   "outputs": [
    {
     "name": "stdout",
     "output_type": "stream",
     "text": [
      "[6, 8, 10, 12]\n"
     ]
    }
   ],
   "source": [
    "w=[1,2,3,4]\n",
    "v=[5,6,7,8]\n",
    "def vect_sum(v,w):           # Provided the vectors should be of the same size\n",
    "    return [w_i + v_i \n",
    "           for w_i,v_i in zip (w,v)]\n",
    "print(vect_sum(w,v))"
   ]
  },
  {
   "cell_type": "markdown",
   "metadata": {},
   "source": [
    "Simillar is for vector substraction\n",
    "\n",
    "We’ll also sometimes want to componentwise sum a list of vectors. That is, create a\n",
    "new vector whose first element is the sum of all the first elements, whose second element\n",
    "is the sum of all the second elements, and so on. The easiest way to do this is by\n",
    "adding one vector at a time:"
   ]
  },
  {
   "cell_type": "code",
   "execution_count": 16,
   "metadata": {},
   "outputs": [],
   "source": [
    "def vector_sum(vectors):\n",
    "    \"\"\"sums all corresponding elements\"\"\"\n",
    "    result = vectors[0] # start with the first vector\n",
    "    for vector in vectors[1:]: # then loop over the others\n",
    "        result = vect_sum(result, vector) # and add them to the result\n",
    "    return result"
   ]
  },
  {
   "cell_type": "markdown",
   "metadata": {},
   "source": [
    "We may also need to multiply vectors by scalars. "
   ]
  },
  {
   "cell_type": "code",
   "execution_count": 66,
   "metadata": {},
   "outputs": [
    {
     "name": "stdout",
     "output_type": "stream",
     "text": [
      "[1, 1, 1, 1]\n",
      "[1, 5, 1, 1]\n"
     ]
    }
   ],
   "source": [
    "x=[1,1,1,1]\n",
    "print(x[:])\n",
    "def scalar_multi(c,v):\n",
    "    for i in v[:]:\n",
    "        v[i]=c*i\n",
    "    return (v)\n",
    "print(scalar_multi(5,x))\n"
   ]
  },
  {
   "cell_type": "markdown",
   "metadata": {},
   "source": [
    "<i>THIS FUNCTION scalar_multi() DOESNT WORK</i>"
   ]
  },
  {
   "cell_type": "markdown",
   "metadata": {},
   "source": [
    "<h6>ALL THESE FUNCTIONS CAN BE IMPLEMENTED WITH THE HELP OF NUMPY LIBRARY</h6>"
   ]
  },
  {
   "cell_type": "code",
   "execution_count": null,
   "metadata": {},
   "outputs": [],
   "source": []
  }
 ],
 "metadata": {
  "kernelspec": {
   "display_name": "Python 3",
   "language": "python",
   "name": "python3"
  },
  "language_info": {
   "codemirror_mode": {
    "name": "ipython",
    "version": 3
   },
   "file_extension": ".py",
   "mimetype": "text/x-python",
   "name": "python",
   "nbconvert_exporter": "python",
   "pygments_lexer": "ipython3",
   "version": "3.7.3"
  }
 },
 "nbformat": 4,
 "nbformat_minor": 2
}
